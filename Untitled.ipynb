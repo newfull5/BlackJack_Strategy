{
 "cells": [
  {
   "cell_type": "code",
   "execution_count": 1,
   "metadata": {},
   "outputs": [],
   "source": [
    "from utils import DealerBurstCase, WhenToHit\n",
    "import matplotlib.pyplot as plt"
   ]
  },
  {
   "cell_type": "code",
   "execution_count": 5,
   "metadata": {},
   "outputs": [
    {
     "data": {
      "text/plain": [
       "2197"
      ]
     },
     "execution_count": 5,
     "metadata": {},
     "output_type": "execute_result"
    }
   ],
   "source": [
    "13*13*13"
   ]
  },
  {
   "cell_type": "code",
   "execution_count": 2,
   "metadata": {},
   "outputs": [
    {
     "name": "stdout",
     "output_type": "stream",
     "text": [
      "딜러가 버스트 할 확률 : 27.18%\n"
     ]
    },
    {
     "data": {
      "image/png": "[encoded data removed]",
      "text/plain": [
       "<Figure size 432x288 with 1 Axes>"
      ]
     },
     "metadata": {
      "needs_background": "light"
     },
     "output_type": "display_data"
    }
   ],
   "source": [
    "DealerBurstCase()"
   ]
  },
  {
   "cell_type": "code",
   "execution_count": 3,
   "metadata": {},
   "outputs": [
    {
     "name": "stdout",
     "output_type": "stream",
     "text": [
      "도합 10이상 스탠드 할때\n",
      "승률 : 34.96%\n",
      "\n",
      "도합 11이상 스탠드 할때\n",
      "승률 : 36.03%\n",
      "\n",
      "도합 12이상 스탠드 할때\n",
      "승률 : 37.69%\n",
      "\n",
      "도합 13이상 스탠드 할때\n",
      "승률 : 37.87%\n",
      "\n",
      "도합 14이상 스탠드 할때\n",
      "승률 : 38.19%\n",
      "\n",
      "도합 15이상 스탠드 할때\n",
      "승률 : 37.78%\n",
      "\n",
      "도합 16이상 스탠드 할때\n",
      "승률 : 37.56%\n",
      "\n",
      "도합 17이상 스탠드 할때\n",
      "승률 : 36.34%\n",
      "\n",
      "도합 18이상 스탠드 할때\n",
      "승률 : 35.59%\n",
      "\n",
      "도합 19이상 스탠드 할때\n",
      "승률 : 31.59%\n",
      "\n",
      "도합 20이상 스탠드 할때\n",
      "승률 : 24.94%\n",
      "\n",
      "도합 21이상 스탠드 할때\n",
      "승률 : 11.03%\n",
      "\n"
     ]
    }
   ],
   "source": [
    "for i in range(10, 22):\n",
    "    print('도합 {}이상 스탠드 할때'.format(i))\n",
    "    WhenToHit(i)\n",
    "    print('')"
   ]
  },
  {
   "cell_type": "code",
   "execution_count": 29,
   "metadata": {},
   "outputs": [
    {
     "data": {
      "text/plain": [
       "<BarContainer object of 12 artists>"
      ]
     },
     "execution_count": 29,
     "metadata": {},
     "output_type": "execute_result"
    },
    {
     "data": {
      "image/png": "[encoded data removed]",
      "text/plain": [
       "<Figure size 432x288 with 1 Axes>"
      ]
     },
     "metadata": {
      "needs_background": "light"
     },
     "output_type": "display_data"
    }
   ],
   "source": [
    "plt.bar(['10','11','12','13','14','15','16','17','18','19','20','21'],\n",
    "        [35.3,36.3,37.4,38.0,38.1,37.6,37.6,36.9,35.3,31.5,24.9,11.1])"
   ]
  },
  {
   "cell_type": "code",
   "execution_count": null,
   "metadata": {},
   "outputs": [],
   "source": []
  }
 ],
 "metadata": {
  "kernelspec": {
   "display_name": "Python 3",
   "language": "python",
   "name": "python3"
  },
  "language_info": {
   "codemirror_mode": {
    "name": "ipython",
    "version": 3
   },
   "file_extension": ".py",
   "mimetype": "text/x-python",
   "name": "python",
   "nbconvert_exporter": "python",
   "pygments_lexer": "ipython3",
   "version": "3.7.4"
  }
 },
 "nbformat": 4,
 "nbformat_minor": 2
}
