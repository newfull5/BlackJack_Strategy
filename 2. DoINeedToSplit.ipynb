{
 "cells": [
  {
   "cell_type": "markdown",
   "metadata": {},
   "source": [
    "## 3. 스플릿이 필요할 때\n",
    "\n",
    "* 우선 에이스는 스플릿 하지 않으면 승률이 급격히 떨어진다. 소프트 핸드의 이점도 잃고, 12라는 애매한 숫자로 시작해야한다.\n",
    "* 10,10은 절대로 스플릿해서는 안된다. 높은 확률로 이길 수 있는 기회를 버리는 셈이다.\n",
    "* 5,5는 스플릿하지 않는 편이 승률이 월등히 높다. 어쨋거나 10은 강력한 카드다. 더블다운이 가능하다면 더블다운하자.\n",
    "* 8,8은 스플릿 하지 않으면 너무 승률이 낮다. 16이라는 애매한 숫자로 뭘 해볼 수가 없다. 울면서 스플릿하자\n",
    "* 낮은 숫자의 카드는 애초부터 승률이 안좋다. 스플릿 해도 안좋지만, 딜러에게 버스트 확률이 높은 2~6이 나온다면 스플릿하여 배팅량을 늘리자\n",
    "\n"
   ]
  },
  {
   "cell_type": "code",
   "execution_count": 1,
   "metadata": {},
   "outputs": [],
   "source": [
    "import utils as a\n",
    "import matplotlib.pyplot as plt"
   ]
  },
  {
   "cell_type": "code",
   "execution_count": 2,
   "metadata": {
    "scrolled": false
   },
   "outputs": [
    {
     "name": "stdout",
     "output_type": "stream",
     "text": [
      "[+] The Case of K [+]\n",
      "\n",
      "스플릿 할 시 총 승률 : 42.35%\n",
      "\n",
      "스플릿 안 할 시 총 승률 : 70.26%\n",
      "\n",
      "\n",
      "[+] The Case of Q [+]\n",
      "\n",
      "스플릿 할 시 총 승률 : 42.51%\n",
      "\n",
      "스플릿 안 할 시 총 승률 : 70.14%\n",
      "\n",
      "\n",
      "[+] The Case of J [+]\n",
      "\n",
      "스플릿 할 시 총 승률 : 42.23%\n",
      "\n",
      "스플릿 안 할 시 총 승률 : 70.15%\n",
      "\n",
      "\n",
      "[+] The Case of 10 [+]\n",
      "\n",
      "스플릿 할 시 총 승률 : 42.65%\n",
      "\n",
      "스플릿 안 할 시 총 승률 : 70.07%\n",
      "\n",
      "\n",
      "[+] The Case of 9 [+]\n",
      "\n",
      "스플릿 할 시 총 승률 : 43.81%\n",
      "\n",
      "스플릿 안 할 시 총 승률 : 43.10%\n",
      "\n",
      "\n",
      "[+] The Case of 8 [+]\n",
      "\n",
      "스플릿 할 시 총 승률 : 38.82%\n",
      "\n",
      "스플릿 안 할 시 총 승률 : 28.75%\n",
      "\n",
      "\n",
      "[+] The Case of 7 [+]\n",
      "\n",
      "스플릿 할 시 총 승률 : 33.23%\n",
      "\n",
      "스플릿 안 할 시 총 승률 : 28.91%\n",
      "\n",
      "\n",
      "[+] The Case of 6 [+]\n",
      "\n",
      "스플릿 할 시 총 승률 : 32.74%\n",
      "\n",
      "스플릿 안 할 시 총 승률 : 30.48%\n",
      "\n",
      "\n",
      "[+] The Case of 5 [+]\n",
      "\n",
      "스플릿 할 시 총 승률 : 30.82%\n",
      "\n",
      "스플릿 안 할 시 총 승률 : 49.21%\n",
      "\n",
      "\n",
      "[+] The Case of 4 [+]\n",
      "\n",
      "스플릿 할 시 총 승률 : 30.42%\n",
      "\n",
      "스플릿 안 할 시 총 승률 : 38.92%\n",
      "\n",
      "\n",
      "[+] The Case of 3 [+]\n",
      "\n",
      "스플릿 할 시 총 승률 : 31.02%\n",
      "\n",
      "스플릿 안 할 시 총 승률 : 34.33%\n",
      "\n",
      "\n",
      "[+] The Case of 2 [+]\n",
      "\n",
      "스플릿 할 시 총 승률 : 32.21%\n",
      "\n",
      "스플릿 안 할 시 총 승률 : 35.49%\n",
      "\n",
      "\n"
     ]
    }
   ],
   "source": [
    "cards = [\n",
    "    ['2','2'],['3','3'],['4','4'],['5','5'],['6','6'],['7','7'],\n",
    "    ['8','8'],['9','9'],['10','10'],['J','J'],['Q','Q'],['K','K']\n",
    "]\n",
    "\n",
    "for card in cards[::-1]:\n",
    "    print('[+] The Case of {} [+]\\n'.format(card[0]))\n",
    "    a.WhatIf(card, wantsplit=True)\n",
    "    print('스플릿 할 시 총 승률 : {0:.2f}%\\n'.format(50*sum(a.dealer_first_card.values())/a.match_cnt))\n",
    "\n",
    "    a.WhatIf(card, wantsplit=False)\n",
    "    print('스플릿 안 할 시 총 승률 : {0:.2f}%\\n\\n'.format(100*sum(a.dealer_first_card.values())/a.match_cnt))"
   ]
  },
  {
   "cell_type": "code",
   "execution_count": 3,
   "metadata": {},
   "outputs": [
    {
     "name": "stdout",
     "output_type": "stream",
     "text": [
      "딜러의 업카드에 따른 승리 횟수\n"
     ]
    },
    {
     "data": {
      "image/png": "[encoded data removed]",
      "text/plain": [
       "<Figure size 432x288 with 1 Axes>"
      ]
     },
     "metadata": {
      "needs_background": "light"
     },
     "output_type": "display_data"
    }
   ],
   "source": [
    "print('딜러의 업카드에 따른 승리 횟수')\n",
    "lists = list(a.dealer_first_card.values())[:-1] + [list(a.dealer_first_card.values())[-1]//4]*4\n",
    "plt.bar(['A','2','3','4','5','6','7','8','9','10','J','Q','K'], lists)\n",
    "plt.show()\n",
    "\n",
    "#대부분 경우가 아래의 그래프와 유사한 양상을 보입니다. 딜러가 버스트할 확률과도 비슷합니다."
   ]
  },
  {
   "cell_type": "code",
   "execution_count": 4,
   "metadata": {},
   "outputs": [
    {
     "name": "stdout",
     "output_type": "stream",
     "text": [
      "스플릿 할 시 승률 : 58.49%\n",
      "\n",
      "딜러의 업카드에 따른 승리 횟수\n"
     ]
    },
    {
     "data": {
      "image/png": "[encoded data removed]",
      "text/plain": [
       "<Figure size 432x288 with 1 Axes>"
      ]
     },
     "metadata": {
      "needs_background": "light"
     },
     "output_type": "display_data"
    },
    {
     "name": "stdout",
     "output_type": "stream",
     "text": [
      "스플릿 안 할 시 승률 : 28.71%\n",
      "\n",
      "딜러의 업카드에 따른 승리 횟수\n"
     ]
    },
    {
     "data": {
      "image/png": "[encoded data removed]",
      "text/plain": [
       "<Figure size 432x288 with 1 Axes>"
      ]
     },
     "metadata": {
      "needs_background": "light"
     },
     "output_type": "display_data"
    }
   ],
   "source": [
    "#에이스는 승률에 21이 될 확률(4/13)을 더 더해줘야한다.\n",
    "\n",
    "card = ['A','A']\n",
    "\n",
    "a.WhatIf(card, wantsplit=True)\n",
    "print('스플릿 할 시 승률 : {0:.2f}%\\n'.format((50*sum(a.dealer_first_card.values())/a.match_cnt)+30))\n",
    "lists = list(a.dealer_first_card.values())[:-1] + [list(a.dealer_first_card.values())[-1]//4]*4\n",
    "print('딜러의 업카드에 따른 승리 횟수')\n",
    "plt.bar(['A','2','3','4','5','6','7','8','9','10','J','Q','K'], lists)\n",
    "plt.show()\n",
    "\n",
    "a.WhatIf(card, wantsplit=False)\n",
    "print('스플릿 안 할 시 승률 : {0:.2f}%\\n'.format(100*sum(a.dealer_first_card.values())/a.match_cnt))\n",
    "lists = list(a.dealer_first_card.values())[:-1] + [list(a.dealer_first_card.values())[-1]//4]*4\n",
    "print('딜러의 업카드에 따른 승리 횟수')\n",
    "plt.bar(['A','2','3','4','5','6','7','8','9','10','J','Q','K'], lists)\n",
    "plt.show()"
   ]
  },
  {
   "cell_type": "code",
   "execution_count": null,
   "metadata": {},
   "outputs": [],
   "source": []
  }
 ],
 "metadata": {
  "kernelspec": {
   "display_name": "Python 3",
   "language": "python",
   "name": "python3"
  },
  "language_info": {
   "codemirror_mode": {
    "name": "ipython",
    "version": 3
   },
   "file_extension": ".py",
   "mimetype": "text/x-python",
   "name": "python",
   "nbconvert_exporter": "python",
   "pygments_lexer": "ipython3",
   "version": "3.7.4"
  }
 },
 "nbformat": 4,
 "nbformat_minor": 2
}
