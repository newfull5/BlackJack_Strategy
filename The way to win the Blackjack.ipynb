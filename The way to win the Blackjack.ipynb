{
 "cells": [
  {
   "cell_type": "code",
   "execution_count": 75,
   "metadata": {},
   "outputs": [],
   "source": [
    "import re\n",
    "import random\n",
    "\n",
    "class BlackJack():\n",
    "    \n",
    "    def __init__(self, always_insurance = False):\n",
    "        num = ['A','2','3','4','5','6','7','8','9','10','J','Q','K']\n",
    "        pattern = ['C', 'H', 'S', 'D'] #Clover, Heart, Spade, Diamond\n",
    "\n",
    "        self.deq = []\n",
    "\n",
    "        for p in pattern:\n",
    "            for n in num:\n",
    "                self.deq.append(n+p)\n",
    "\n",
    "        self.deq = self.deq * 4 #덱 4세트를 묶어서 진행, 총 208장\n",
    "        \n",
    "        random.shuffle(self.deq) # 셔플\n",
    "        \n",
    "        self.player_card = []\n",
    "        self.player_point = []\n",
    "        self.player_score = 0\n",
    "        self.splited = False\n",
    "        \n",
    "        self.dealer_card = []\n",
    "        self.dealer_point = []\n",
    "        self.dealer_score = 0\n",
    "        \n",
    "        self.insurance = always_insurance\n",
    "        \n",
    "        self.A = re.compile('A')\n",
    "        self.T = re.compile('10|J|Q|K')\n",
    "        \n",
    "        \n",
    "    def Begin(self):\n",
    "        self.player_card.append(self.deq.pop()[:-1])\n",
    "        self.player_card.append(self.deq.pop()[:-1])\n",
    "        \n",
    "        \n",
    "    def Split(self):\n",
    "        temp = self.player_card.pop()\n",
    "        temp2 = self.player_card.pop()\n",
    "        self.player_card.append([temp])\n",
    "        self.player_card.append([temp2])\n",
    "\n",
    "        \n",
    "    def CardSum(self,card):\n",
    "        \n",
    "        temp = 0\n",
    "        \n",
    "        if self.A.search(''.join(card)):\n",
    "            for c in card:\n",
    "                if self.A.search(c):\n",
    "                    temp += 11\n",
    "                elif self.T.search(c):\n",
    "                    temp += 10\n",
    "                else:\n",
    "                    temp += int(c)\n",
    "                    \n",
    "            if temp > 21:\n",
    "                temp -= 10\n",
    "            return temp\n",
    "        \n",
    "        elif self.T.search(''.join(card)):\n",
    "            for c in card:\n",
    "                if self.T.search(c):\n",
    "                    temp += 10\n",
    "                else:\n",
    "                    temp += int(c)\n",
    "            return temp\n",
    "            \n",
    "        else:\n",
    "            return sum(map(int, card))\n",
    "    \n",
    "    \n",
    "    def IsItBlackJack(self,card):\n",
    "        if len(card) == 2:\n",
    "            if self.A.search(''.join(card)) and self.T.search(''.join(card)):\n",
    "                return True\n",
    "        return False\n",
    "    \n",
    "        \n",
    "    def HitOrStand(self, Hit=False, Stand=False):\n",
    "        if Hit == True:\n",
    "            if self.splited:\n",
    "                for c in self.player_card:\n",
    "                    c.append(self.deq.pop()[:-1])\n",
    "            else:\n",
    "                self.player_card.append(self.deq.pop()[:-1])\n",
    "                \n",
    "                \n",
    "    def DealerCard(self, always_insurance):\n",
    "        self.dealer_card.append(self.deq.pop()[:-1])\n",
    "        if self.dealer_card[0] == 'A':\n",
    "            self.insurance = always_insurance\n",
    "            \n",
    "        self.dealer_card.append(self.deq.pop()[:-1])\n",
    "        if self.IsitBlackJack(self.dealer_card):\n",
    "            if not insurance:\n",
    "                self.player_score -= 2\n",
    "                \n",
    "        while self.CardSum(self.dealer_card) < 17:\n",
    "            self.dealer_card.append(self.deq.pop()[:-1])\n",
    "            \n",
    "        if self.CardSum(self.dealer_card) > 21:\n",
    "            self.dealer_point = -1\n",
    "        else:\n",
    "            self.dealer_point = self.CardSum(self.dealer_card)[:]\n"
   ]
  },
  {
   "cell_type": "code",
   "execution_count": 95,
   "metadata": {},
   "outputs": [
    {
     "name": "stdout",
     "output_type": "stream",
     "text": [
      "['5', 'Q', 'A']\n",
      "[16]\n"
     ]
    }
   ],
   "source": [
    "a = BlackJack()\n",
    "a.Begin()\n",
    "a.HitOrStand(Hit=True)\n",
    "a.player_point.append(a.CardSum(a.player_card))\n",
    "print(a.player_card)\n",
    "print(a.player_point)\n"
   ]
  },
  {
   "cell_type": "code",
   "execution_count": 28,
   "metadata": {
    "collapsed": true
   },
   "outputs": [
    {
     "ename": "IndexError",
     "evalue": "list index out of range",
     "output_type": "error",
     "traceback": [
      "\u001b[1;31m---------------------------------------------------------------------------\u001b[0m",
      "\u001b[1;31mIndexError\u001b[0m                                Traceback (most recent call last)",
      "\u001b[1;32m<ipython-input-28-c80cbf703fb0>\u001b[0m in \u001b[0;36m<module>\u001b[1;34m\u001b[0m\n\u001b[0;32m     11\u001b[0m     \u001b[0ma\u001b[0m\u001b[1;33m.\u001b[0m\u001b[0mHitOrStand\u001b[0m\u001b[1;33m(\u001b[0m\u001b[0mHit\u001b[0m\u001b[1;33m=\u001b[0m\u001b[1;32mTrue\u001b[0m\u001b[1;33m)\u001b[0m\u001b[1;33m\u001b[0m\u001b[1;33m\u001b[0m\u001b[0m\n\u001b[0;32m     12\u001b[0m \u001b[1;33m\u001b[0m\u001b[0m\n\u001b[1;32m---> 13\u001b[1;33m     \u001b[1;32mif\u001b[0m \u001b[0ma\u001b[0m\u001b[1;33m.\u001b[0m\u001b[0mplayer_point\u001b[0m\u001b[1;33m[\u001b[0m\u001b[1;36m0\u001b[0m\u001b[1;33m]\u001b[0m \u001b[1;33m>\u001b[0m \u001b[1;36m21\u001b[0m\u001b[1;33m:\u001b[0m\u001b[1;33m\u001b[0m\u001b[1;33m\u001b[0m\u001b[0m\n\u001b[0m\u001b[0;32m     14\u001b[0m         \u001b[1;32mcontinue\u001b[0m\u001b[1;33m\u001b[0m\u001b[1;33m\u001b[0m\u001b[0m\n\u001b[0;32m     15\u001b[0m \u001b[1;33m\u001b[0m\u001b[0m\n",
      "\u001b[1;31mIndexError\u001b[0m: list index out of range"
     ]
    }
   ],
   "source": [
    "\n",
    "\n",
    "a = BlackJack()\n",
    "\n",
    "while len(a.deq) > 10: #덱에 카드가 10장 미만이면 게임을 마칩니다.\n",
    "    \n",
    "    a.Begin() # 카드 두장을 받습니다.\n",
    "\n",
    "    if a.IsItBlackJack(a.player_card):\n",
    "        a.player_score += 2 #배팅액의 2배를 받는 룰을 적용합니다.\n",
    "        continue\n",
    "        \n",
    "    a.HitOrStand(Hit=True)\n",
    "    \n",
    "    if a.player_point[0] > 21:\n",
    "        continue\n",
    "        "
   ]
  },
  {
   "cell_type": "code",
   "execution_count": 23,
   "metadata": {},
   "outputs": [],
   "source": [
    "card = ['10', '8']"
   ]
  },
  {
   "cell_type": "code",
   "execution_count": 27,
   "metadata": {},
   "outputs": [
    {
     "data": {
      "text/plain": [
       "18"
      ]
     },
     "execution_count": 27,
     "metadata": {},
     "output_type": "execute_result"
    }
   ],
   "source": [
    "sum(list(map(int, card)))"
   ]
  },
  {
   "cell_type": "code",
   "execution_count": 40,
   "metadata": {},
   "outputs": [
    {
     "name": "stdout",
     "output_type": "stream",
     "text": [
      "1  2  3.123\n"
     ]
    }
   ],
   "source": [
    "print(\"{}  {}  {}\".format('1','2','3.12312'[:5], \"1.3f\"))"
   ]
  },
  {
   "cell_type": "code",
   "execution_count": null,
   "metadata": {},
   "outputs": [],
   "source": []
  }
 ],
 "metadata": {
  "kernelspec": {
   "display_name": "Python 3",
   "language": "python",
   "name": "python3"
  },
  "language_info": {
   "codemirror_mode": {
    "name": "ipython",
    "version": 3
   },
   "file_extension": ".py",
   "mimetype": "text/x-python",
   "name": "python",
   "nbconvert_exporter": "python",
   "pygments_lexer": "ipython3",
   "version": "3.7.4"
  }
 },
 "nbformat": 4,
 "nbformat_minor": 2
}
