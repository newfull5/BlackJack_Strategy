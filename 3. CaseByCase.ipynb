{
 "cells": [
  {
   "cell_type": "markdown",
   "metadata": {},
   "source": [
    "## 4. 첫패의 합에 따른 전략\n",
    "\n",
    "* 첫 패의 합이 5 ~ 8일 경우는 승률이 낮은 편이다.딜러의 업카드가 흑우카드(2 ~ 6)가 아니라면 사실상 졌다고 봐야할 것이다.\n",
    "* 13~17 까지는 사실상 딜러가 버스트 될 확률(25%)과 별반 다르지 않다. 서랜더를 허용한다면 최대한 사용하자.\n",
    "* 9~11인경우 승률이 좋다. 물론 스탠드를 해서는 안되고, 딜러의 업카드가 흑우카드라면 더블다운을 하도록하자.\n"
   ]
  },
  {
   "cell_type": "code",
   "execution_count": 49,
   "metadata": {},
   "outputs": [
    {
     "name": "stdout",
     "output_type": "stream",
     "text": [
      "첫 패의 합이 5인 경우 전체 승률 : 34.84%\n",
      "\n",
      "첫 패의 합이 6인 경우 전체 승률 : 34.22%\n",
      "\n",
      "첫 패의 합이 7인 경우 전체 승률 : 34.28%\n",
      "\n",
      "첫 패의 합이 8인 경우 전체 승률 : 38.78%\n",
      "\n",
      "첫 패의 합이 9인 경우 전체 승률 : 43.90%\n",
      "\n",
      "첫 패의 합이 10인 경우 전체 승률 : 49.51%\n",
      "\n",
      "첫 패의 합이 11인 경우 전체 승률 : 53.14%\n",
      "\n",
      "첫 패의 합이 12인 경우 전체 승률 : 30.67%\n",
      "\n",
      "첫 패의 합이 13인 경우 전체 승률 : 28.76%\n",
      "\n",
      "첫 패의 합이 14인 경우 전체 승률 : 28.45%\n",
      "\n",
      "첫 패의 합이 15인 경우 전체 승률 : 28.78%\n",
      "\n",
      "첫 패의 합이 16인 경우 전체 승률 : 28.51%\n",
      "\n",
      "첫 패의 합이 17인 경우 전체 승률 : 28.39%\n",
      "\n",
      "첫 패의 합이 18인 경우 전체 승률 : 42.95%\n",
      "\n",
      "첫 패의 합이 19인 경우 전체 승률 : 56.81%\n",
      "\n",
      "첫 패의 합이 20인 경우 전체 승률 : 70.07%\n",
      "\n"
     ]
    }
   ],
   "source": [
    "import utils as a\n",
    "import matplotlib.pyplot as plt\n",
    "\n",
    "# 첫 패의 합이 5가되는 경우 부터 20가 되는 경우\n",
    "var = [['2','3'],['2','4'],['2','5'],['2','6'],['3','6'],['4','6'],['5','6'],['5','7'],\n",
    "    ['6','7'],['6','8'],['7','8'],['7','9'],['8','9'],['8','10'],['9','10'],['9','A']] \n",
    "\n",
    "i = 5\n",
    "\n",
    "for v in var:\n",
    "    a.CaseByCase(v)\n",
    "    print('첫 패의 합이 {}인'.format(i),\n",
    "          '경우 전체 승률 : {0:.2f}%\\n'.format(100*sum(a.dealer_first_card.values())/a.match_cnt))\n",
    "    i += 1"
   ]
  },
  {
   "cell_type": "code",
   "execution_count": 50,
   "metadata": {},
   "outputs": [
    {
     "data": {
      "text/plain": [
       "<BarContainer object of 16 artists>"
      ]
     },
     "execution_count": 50,
     "metadata": {},
     "output_type": "execute_result"
    },
    {
     "data": {
      "image/png": "[encoded data removed]",
      "text/plain": [
       "<Figure size 432x288 with 1 Axes>"
      ]
     },
     "metadata": {
      "needs_background": "light"
     },
     "output_type": "display_data"
    }
   ],
   "source": [
    "rate = [34, 34, 34, 38, 43, 49, 53, 30, 28, 28, 28, 28, 29, 43, 57, 70]\n",
    "kind = [5,6,7,8,9,10,11,12,13,14,15,16,17,18,19,20]\n",
    "plt.bar(list(map(str,kind)),rate)"
   ]
  },
  {
   "cell_type": "code",
   "execution_count": null,
   "metadata": {},
   "outputs": [],
   "source": []
  }
 ],
 "metadata": {
  "kernelspec": {
   "display_name": "Python 3",
   "language": "python",
   "name": "python3"
  },
  "language_info": {
   "codemirror_mode": {
    "name": "ipython",
    "version": 3
   },
   "file_extension": ".py",
   "mimetype": "text/x-python",
   "name": "python",
   "nbconvert_exporter": "python",
   "pygments_lexer": "ipython3",
   "version": "3.7.4"
  }
 },
 "nbformat": 4,
 "nbformat_minor": 2
}
