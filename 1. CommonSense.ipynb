{
 "cells": [
  {
   "cell_type": "code",
   "execution_count": 1,
   "metadata": {},
   "outputs": [],
   "source": [
    "from utils import DealerBurstCase, WhenToHit\n",
    "import utils\n",
    "import matplotlib.pyplot as plt"
   ]
  },
  {
   "cell_type": "markdown",
   "metadata": {},
   "source": [
    "## 0. 딜러 카드 합계 빈도\n",
    "\n",
    "* 버스트를 제외한다면, 20이 유의미하게 가장 크다.\n",
    "* 즉 플레이어의 카드가 19일 경우 딜러가 버스트가 안되면 이길 확률 보다 질 확률이 크다.\n",
    "* 딜러의 첫 카드가 10,J,Q,K 라면 플레이어의 카드가 17, 18로는 위험하다."
   ]
  },
  {
   "cell_type": "code",
   "execution_count": 19,
   "metadata": {},
   "outputs": [
    {
     "name": "stdout",
     "output_type": "stream",
     "text": [
      "{'-1': 74633, '17': 37682, '18': 36215, '19': 34545, '20': 46662, '21': 31419}\n"
     ]
    },
    {
     "data": {
      "text/plain": [
       "<BarContainer object of 6 artists>"
      ]
     },
     "execution_count": 19,
     "metadata": {},
     "output_type": "execute_result"
    },
    {
     "data": {
      "image/png": "[encoded data removed]",
      "text/plain": [
       "<Figure size 432x288 with 1 Axes>"
      ]
     },
     "metadata": {
      "needs_background": "light"
     },
     "output_type": "display_data"
    }
   ],
   "source": [
    "utils.DealerCardCase()\n",
    "\n",
    "print(utils.dealer_first_cardsum)\n",
    "\n",
    "plt.bar(['Burst','17','18','19','20','21'],list(map(lambda x: 100*x/utils.match_cnt, utils.dealer_first_cardsum.values())))"
   ]
  },
  {
   "cell_type": "markdown",
   "metadata": {},
   "source": [
    "## 1. 딜러의 버스트 확률\n",
    "\n",
    "* 42007 회의 게임 진행\n",
    "* 총 25.79% 확률로 딜러는 버스트 한다.\n",
    "* 딜러의 첫카드 A일 경우 가장 낮은 확률 (16.6%)\n",
    "* 첫 카드가 6 일 경우 버스트 확률이 가장 높다 (43%)\n",
    "* 첫 카드가 7 일 경우 버스트 확률이 급격히 떨어진다 (27.4%)\n",
    "\n",
    "딜러의 카드가 2 ~ 6일 경우 버스트를 노려볼 만 하지만,<br>\n",
    "버스트 확률이 가장 높은 6의 경우도 50%를 넘기지 못한다.<br>\n",
    "딜러의 버스트에 의존하는 플레이는 지양한다."
   ]
  },
  {
   "cell_type": "code",
   "execution_count": 18,
   "metadata": {},
   "outputs": [
    {
     "name": "stdout",
     "output_type": "stream",
     "text": [
      "딜러가 버스트 할 확률 : 25.79%\n"
     ]
    },
    {
     "data": {
      "image/png": "[encoded data removed]",
      "text/plain": [
       "<Figure size 432x288 with 1 Axes>"
      ]
     },
     "metadata": {
      "needs_background": "light"
     },
     "output_type": "display_data"
    }
   ],
   "source": [
    "DealerBurstCase()"
   ]
  },
  {
   "cell_type": "markdown",
   "metadata": {},
   "source": [
    "## 2. 언제 스탠드 해야 할까\n",
    "\n",
    "* 카드의 합계가 14이상일 경우 가장 승률이 높다.(38.19%)\n",
    "* 하지만 12이상일 경우부터 16이상일 경우 스탠드를 하는 전략의 승률과 크게 차이나지 않는다. (37.56% ~ 38.19%)\n",
    "* 이는 카드의 합계가 12나 13일 경우에도 딜러의 첫 카드가 2~6 사이라면 스탠드 해볼만 하다는 의미로 해석될 수 있다.\n",
    "* 시험에서는 승률이 가장 높은 14를 택한다.\n",
    "\n",
    "전략을 전혀 취하지 않은, 그저 Hit or Stand라서 승률이 처참하다. <br>\n",
    "허나 바꿔 말하면 Hit or Stand 만으로도 38.19%의 승률은 보장받을 수 있다는 의미이기도하다. <br>\n",
    "이를 기반으로 상황별 대응 전략을 적용하여 승률을 최대한 끌어올려보자. <br>"
   ]
  },
  {
   "cell_type": "code",
   "execution_count": 11,
   "metadata": {},
   "outputs": [
    {
     "name": "stdout",
     "output_type": "stream",
     "text": [
      "도합 10이상 스탠드 할때\n",
      "승률 : 35.10%\n",
      "\n",
      "도합 11이상 스탠드 할때\n",
      "승률 : 36.27%\n",
      "\n",
      "도합 12이상 스탠드 할때\n",
      "승률 : 37.57%\n",
      "\n",
      "도합 13이상 스탠드 할때\n",
      "승률 : 38.05%\n",
      "\n",
      "도합 14이상 스탠드 할때\n",
      "승률 : 38.19%\n",
      "\n",
      "도합 15이상 스탠드 할때\n",
      "승률 : 37.49%\n",
      "\n",
      "도합 16이상 스탠드 할때\n",
      "승률 : 37.21%\n",
      "\n",
      "도합 17이상 스탠드 할때\n",
      "승률 : 36.44%\n",
      "\n",
      "도합 18이상 스탠드 할때\n",
      "승률 : 35.39%\n",
      "\n",
      "도합 19이상 스탠드 할때\n",
      "승률 : 31.63%\n",
      "\n",
      "도합 20이상 스탠드 할때\n",
      "승률 : 24.39%\n",
      "\n",
      "도합 21이상 스탠드 할때\n",
      "승률 : 10.84%\n",
      "\n"
     ]
    }
   ],
   "source": [
    "for i in range(10, 22):\n",
    "    print('도합 {}이상 스탠드 할때'.format(i))\n",
    "    WhenToHit(i)\n",
    "    print('')"
   ]
  },
  {
   "cell_type": "code",
   "execution_count": 29,
   "metadata": {},
   "outputs": [
    {
     "data": {
      "text/plain": [
       "<BarContainer object of 12 artists>"
      ]
     },
     "execution_count": 29,
     "metadata": {},
     "output_type": "execute_result"
    },
    {
     "data": {
      "image/png": "[encoded data removed]",
      "text/plain": [
       "<Figure size 432x288 with 1 Axes>"
      ]
     },
     "metadata": {
      "needs_background": "light"
     },
     "output_type": "display_data"
    }
   ],
   "source": [
    "plt.bar(['10','11','12','13','14','15','16','17','18','19','20','21'],\n",
    "        [35.3,36.3,37.4,38.0,38.1,37.6,37.6,36.9,35.3,31.5,24.9,11.1])"
   ]
  }
 ],
 "metadata": {
  "kernelspec": {
   "display_name": "Python 3",
   "language": "python",
   "name": "python3"
  },
  "language_info": {
   "codemirror_mode": {
    "name": "ipython",
    "version": 3
   },
   "file_extension": ".py",
   "mimetype": "text/x-python",
   "name": "python",
   "nbconvert_exporter": "python",
   "pygments_lexer": "ipython3",
   "version": "3.7.4"
  }
 },
 "nbformat": 4,
 "nbformat_minor": 2
}
